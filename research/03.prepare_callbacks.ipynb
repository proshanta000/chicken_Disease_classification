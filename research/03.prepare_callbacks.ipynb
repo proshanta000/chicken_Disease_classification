{
 "cells": [
  {
   "cell_type": "code",
   "execution_count": 1,
   "id": "d2df0046",
   "metadata": {},
   "outputs": [],
   "source": [
    "import os"
   ]
  },
  {
   "cell_type": "code",
   "execution_count": 2,
   "id": "a2f0070f",
   "metadata": {},
   "outputs": [
    {
     "data": {
      "text/plain": [
       "'d:\\\\Data_science\\\\Projects\\\\chicken_Disease_classification\\\\research'"
      ]
     },
     "execution_count": 2,
     "metadata": {},
     "output_type": "execute_result"
    }
   ],
   "source": [
    "%pwd"
   ]
  },
  {
   "cell_type": "code",
   "execution_count": 3,
   "id": "d6a5eb40",
   "metadata": {},
   "outputs": [],
   "source": [
    "os.chdir(\"../\")"
   ]
  },
  {
   "cell_type": "code",
   "execution_count": 4,
   "id": "6b21a1b2",
   "metadata": {},
   "outputs": [
    {
     "data": {
      "text/plain": [
       "'d:\\\\Data_science\\\\Projects\\\\chicken_Disease_classification'"
      ]
     },
     "execution_count": 4,
     "metadata": {},
     "output_type": "execute_result"
    }
   ],
   "source": [
    "%pwd"
   ]
  },
  {
   "cell_type": "code",
   "execution_count": 5,
   "id": "8091b380",
   "metadata": {},
   "outputs": [],
   "source": [
    "from dataclasses import dataclass\n",
    "from pathlib import Path\n",
    "\n",
    "@dataclass(frozen= True)\n",
    "class PrepareCallbacksConfig:\n",
    "    root_dir:Path\n",
    "    tensorboard_root_log_dir:Path\n",
    "    checkpoint_model_filepath:Path"
   ]
  },
  {
   "cell_type": "code",
   "execution_count": 6,
   "id": "48534f59",
   "metadata": {},
   "outputs": [],
   "source": [
    "from CNNCDC.constants import*\n",
    "from CNNCDC.utils.common import read_yaml, create_directories"
   ]
  },
  {
   "cell_type": "code",
   "execution_count": 7,
   "id": "1938afd1",
   "metadata": {},
   "outputs": [],
   "source": [
    "class ConfigurationManager:\n",
    "    def __init__(\n",
    "        self,\n",
    "        config_filepath = CONFIG_FILE_PATH,\n",
    "        params_filepath = PARAMS_FILE_PATH):\n",
    "        \"\"\"\n",
    "        Initializes the ConfigurationManager by loading configuration and\n",
    "        parameters from YAML files.\n",
    "        \"\"\"\n",
    "        # Load the main configuration file\n",
    "        self.config = read_yaml(config_filepath)\n",
    "        # Load the model hyperparameters\n",
    "        self.params = read_yaml(params_filepath)\n",
    "\n",
    "        # Create the root artifacts directory if it doesn't exist\n",
    "        create_directories([self.config.artifacts_root])\n",
    "\n",
    "    def get_prepare_callbacks_config(self)-> PrepareCallbacksConfig:\n",
    "        config= self.config.prepare_callbacks\n",
    "        model_ckpt_dir= os.path.dirname(config.checkpoint_model_filepath)\n",
    "        create_directories([\n",
    "            Path(model_ckpt_dir),\n",
    "            Path(config.tensorboard_root_log_dir)\n",
    "        ])\n",
    "\n",
    "        prepare_callbacks_config = PrepareCallbacksConfig(\n",
    "            root_dir=Path(config.root_dir),\n",
    "            tensorboard_root_log_dir=Path(config.tensorboard_root_log_dir),\n",
    "            checkpoint_model_filepath=Path(config.checkpoint_model_filepath)\n",
    "        )\n",
    "\n",
    "        return prepare_callbacks_config\n",
    "\n"
   ]
  },
  {
   "cell_type": "code",
   "execution_count": 8,
   "id": "65cb5a2a",
   "metadata": {},
   "outputs": [],
   "source": [
    "import os\n",
    "import urllib.request as request\n",
    "from zipfile import ZipFile\n",
    "import tensorflow as tf\n",
    "import time"
   ]
  },
  {
   "cell_type": "code",
   "execution_count": null,
   "id": "568f1a78",
   "metadata": {},
   "outputs": [],
   "source": [
    "class PrepareCallbacks:\n",
    "    def __init__(self, config: PrepareCallbacksConfig):\n",
    "        self.config = config\n",
    "\n",
    "    @property\n",
    "    def _creat_tb_callbacks(self):\n",
    "        timestamp= time.strftime(\"%Y-%m-%d-%H-%S\")\n",
    "        tb_runing_log_dir = os.path.join(\n",
    "            self.config.tensorboard_root_log_dir, \n",
    "            f\"tb_logs_at_(timestamp)\"\n",
    "        )\n",
    "\n",
    "        return tf.keras.callbacks.TensorBoard(log_dir=tb_runing_log_dir)\n",
    "    \n",
    "    @property\n",
    "    def _creat_ckpt_callbacks(self):\n",
    "        return tf.keras.callbacks.ModelCheckpoint(\n",
    "            filepath= self.config.checkpoint_model_filepath,\n",
    "            save_best_only=True\n",
    "        )\n",
    "    \n",
    "\n",
    "    def get_tb_ckpt_callbacks(self):\n",
    "        return[\n",
    "            self._creat_tb_callbacks,\n",
    "            self._creat_ckpt_callbacks\n",
    "        ]"
   ]
  },
  {
   "cell_type": "code",
   "execution_count": 10,
   "id": "06c62fa3",
   "metadata": {},
   "outputs": [
    {
     "name": "stdout",
     "output_type": "stream",
     "text": [
      "[2025-09-26 01:30:16,797: INFO: common: yaml file: config\\config.yaml loaded successfully]\n",
      "[2025-09-26 01:30:16,800: INFO: common: yaml file: params.yaml loaded successfully]\n",
      "[2025-09-26 01:30:16,801: INFO: common: created directory at: artifacts]\n",
      "[2025-09-26 01:30:16,803: INFO: common: created directory at: artifacts\\prepare_callbacks\\checkpoint_dir]\n",
      "[2025-09-26 01:30:16,804: INFO: common: created directory at: artifacts\\prepare_callbacks\\tensorboard_log_dir]\n"
     ]
    },
    {
     "ename": "AttributeError",
     "evalue": "module 'time' has no attribute 'starftime'",
     "output_type": "error",
     "traceback": [
      "\u001b[31m---------------------------------------------------------------------------\u001b[39m",
      "\u001b[31mAttributeError\u001b[39m                            Traceback (most recent call last)",
      "\u001b[36mCell\u001b[39m\u001b[36m \u001b[39m\u001b[32mIn[10]\u001b[39m\u001b[32m, line 8\u001b[39m\n\u001b[32m      5\u001b[39m     callback_list = prepare_callbacks.get_tb_ckpt_callbacks()\n\u001b[32m      7\u001b[39m \u001b[38;5;28;01mexcept\u001b[39;00m \u001b[38;5;167;01mException\u001b[39;00m \u001b[38;5;28;01mas\u001b[39;00m e :\n\u001b[32m----> \u001b[39m\u001b[32m8\u001b[39m     \u001b[38;5;28;01mraise\u001b[39;00m e\n",
      "\u001b[36mCell\u001b[39m\u001b[36m \u001b[39m\u001b[32mIn[10]\u001b[39m\u001b[32m, line 5\u001b[39m\n\u001b[32m      3\u001b[39m     prepare_callbacks_config = config.get_prepare_callbacks_config()\n\u001b[32m      4\u001b[39m     prepare_callbacks = PrepareCallbacks(config=prepare_callbacks_config)\n\u001b[32m----> \u001b[39m\u001b[32m5\u001b[39m     callback_list = \u001b[43mprepare_callbacks\u001b[49m\u001b[43m.\u001b[49m\u001b[43mget_tb_ckpt_callbacks\u001b[49m\u001b[43m(\u001b[49m\u001b[43m)\u001b[49m\n\u001b[32m      7\u001b[39m \u001b[38;5;28;01mexcept\u001b[39;00m \u001b[38;5;167;01mException\u001b[39;00m \u001b[38;5;28;01mas\u001b[39;00m e :\n\u001b[32m      8\u001b[39m     \u001b[38;5;28;01mraise\u001b[39;00m e\n",
      "\u001b[36mCell\u001b[39m\u001b[36m \u001b[39m\u001b[32mIn[9]\u001b[39m\u001b[32m, line 25\u001b[39m, in \u001b[36mPrepareCallbacks.get_tb_ckpt_callbacks\u001b[39m\u001b[34m(self)\u001b[39m\n\u001b[32m     23\u001b[39m \u001b[38;5;28;01mdef\u001b[39;00m\u001b[38;5;250m \u001b[39m\u001b[34mget_tb_ckpt_callbacks\u001b[39m(\u001b[38;5;28mself\u001b[39m):\n\u001b[32m     24\u001b[39m     \u001b[38;5;28;01mreturn\u001b[39;00m[\n\u001b[32m---> \u001b[39m\u001b[32m25\u001b[39m         \u001b[38;5;28;43mself\u001b[39;49m\u001b[43m.\u001b[49m\u001b[43m_creat_tb_callbacks\u001b[49m,\n\u001b[32m     26\u001b[39m         \u001b[38;5;28mself\u001b[39m._creat_ckpt_callbacks\n\u001b[32m     27\u001b[39m     ]\n",
      "\u001b[36mCell\u001b[39m\u001b[36m \u001b[39m\u001b[32mIn[9]\u001b[39m\u001b[32m, line 7\u001b[39m, in \u001b[36mPrepareCallbacks._creat_tb_callbacks\u001b[39m\u001b[34m(self)\u001b[39m\n\u001b[32m      5\u001b[39m \u001b[38;5;129m@property\u001b[39m\n\u001b[32m      6\u001b[39m \u001b[38;5;28;01mdef\u001b[39;00m\u001b[38;5;250m \u001b[39m\u001b[34m_creat_tb_callbacks\u001b[39m(\u001b[38;5;28mself\u001b[39m):\n\u001b[32m----> \u001b[39m\u001b[32m7\u001b[39m     timestamp= \u001b[43mtime\u001b[49m\u001b[43m.\u001b[49m\u001b[43mstarftime\u001b[49m(\u001b[33m\"\u001b[39m\u001b[33m%\u001b[39m\u001b[33mY-\u001b[39m\u001b[33m%\u001b[39m\u001b[33mm-\u001b[39m\u001b[38;5;132;01m%d\u001b[39;00m\u001b[33m-\u001b[39m\u001b[33m%\u001b[39m\u001b[33mH-\u001b[39m\u001b[33m%\u001b[39m\u001b[33mS\u001b[39m\u001b[33m\"\u001b[39m)\n\u001b[32m      8\u001b[39m     tb_runing_log_dir = os.path.join(\n\u001b[32m      9\u001b[39m         \u001b[38;5;28mself\u001b[39m.config.tensorboard_root_log_dir, \n\u001b[32m     10\u001b[39m         \u001b[33mf\u001b[39m\u001b[33m\"\u001b[39m\u001b[33mtb_logs_at_(timestamp)\u001b[39m\u001b[33m\"\u001b[39m\n\u001b[32m     11\u001b[39m     )\n\u001b[32m     13\u001b[39m     \u001b[38;5;28;01mreturn\u001b[39;00m tf.keras.callbacks.TensorBoard(log_dir=tb_runing_log_dir)\n",
      "\u001b[31mAttributeError\u001b[39m: module 'time' has no attribute 'starftime'"
     ]
    }
   ],
   "source": [
    "try:\n",
    "    config = ConfigurationManager()\n",
    "    prepare_callbacks_config = config.get_prepare_callbacks_config()\n",
    "    prepare_callbacks = PrepareCallbacks(config=prepare_callbacks_config)\n",
    "    callback_list = prepare_callbacks.get_tb_ckpt_callbacks()\n",
    "\n",
    "except Exception as e :\n",
    "    raise e"
   ]
  },
  {
   "cell_type": "code",
   "execution_count": null,
   "id": "3c062553",
   "metadata": {},
   "outputs": [],
   "source": []
  },
  {
   "cell_type": "code",
   "execution_count": null,
   "id": "b6f253f8",
   "metadata": {},
   "outputs": [],
   "source": []
  }
 ],
 "metadata": {
  "kernelspec": {
   "display_name": "Python 3",
   "language": "python",
   "name": "python3"
  },
  "language_info": {
   "codemirror_mode": {
    "name": "ipython",
    "version": 3
   },
   "file_extension": ".py",
   "mimetype": "text/x-python",
   "name": "python",
   "nbconvert_exporter": "python",
   "pygments_lexer": "ipython3",
   "version": "3.11.13"
  }
 },
 "nbformat": 4,
 "nbformat_minor": 5
}
